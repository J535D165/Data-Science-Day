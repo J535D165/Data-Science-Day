{
 "cells": [
  {
   "cell_type": "markdown",
   "metadata": {},
   "source": [
    "# Data Engineering: Clean and Integrate Your Data! - Python version\n",
    "*Authors: [Jonathan de Bruin](https://www.uu.nl/medewerkers/JdeBruin1) and [Frans de Liagre Böhl](https://www.uu.nl/medewerkers/FMTdeLiagreBohl)*\n",
    "\n",
    "This [Jupyter Notebook](http://jupyter.org/) is additional material for the workshop \"Data Engineering: Clean and Integrate Your Data!\". The workshop is part of the [Data Science Day 2017](https://www.uu.nl/en/organisation/information-and-technology-services-its/13-april-2017-data-science-day/programme-overview/workshops/data-engineering-clean-and-integrate-your-data-workshop) by the [Information and Technology Services](https://www.uu.nl/en/organisation/information-and-technology-services-its) team of the Utrecht University. This workshop covers the basics of data cleaning and integrating data into a ‘tidy’ dataset. Tidy data dramatically speed downstream analysis tasks. Examples of data cleaning, imputing and integration will be demonstrated with Open Refine, Python and R. This Jupyter Notebook will give an example of data cleaning and integration with the Python-programming language. \n",
    "\n",
    "In this example, we study the relation between mortality and diseases. This is done by linking a mortality register dataset with a dataset of medical (disease) records. The datasets are fictitious. Research questions can be like: is there a relation between (surviving) Salmonella infection and the age of death. \n",
    "\n",
    "**Table of Contents**\n",
    "\n",
    "* [Datasets](#datasets)\n",
    "    * [Dataset 1: Mortality register](#dataset-mortality)\n",
    "    * [Dataset 2: Hospital diagnosis records](#dataset-hospital)\n",
    "* [Explore the data](#explore)\n",
    "    * [Variable 1: sex](#explore-var-sex)\n",
    "    * [Variable 2: place_of_death ](#explore-var-address)\n",
    "    * [Variable 3: ICD10](#explore-var-icd10)\n",
    "    * [Variable 4: given name](#explore-var-given-name)\n",
    "    * [Variable 5: date of death](#explore-var-date)\n",
    "* [Clean the data](#clean)\n",
    "    * [Clean variable: sex](#clean-sex)\n",
    "    * [Clean variable: last_name](#clean-last-name)\n",
    "* [Enrich the data](#enrich)\n",
    "* [Transform the data](#transform)\n",
    "* [Integrate the data](#integrate)\n",
    "    * [STOP STOP STOP](#integrate-advanced)\n",
    "* [Final words](#final-words)\n"
   ]
  },
  {
   "cell_type": "markdown",
   "metadata": {},
   "source": [
    "We first initialize the notebook and import ``pandas`` and ``numpy``. Pandas is a must have, strong and easy to use data manipulation framework written in Python. "
   ]
  },
  {
   "cell_type": "code",
   "execution_count": 1,
   "metadata": {
    "collapsed": false
   },
   "outputs": [],
   "source": [
    "# enable inline plotting\n",
    "%matplotlib inline\n",
    "\n",
    "# python 2 and 3 compatibility\n",
    "from __future__ import print_function\n",
    "\n",
    "import pandas\n",
    "import numpy"
   ]
  },
  {
   "cell_type": "markdown",
   "metadata": {},
   "source": [
    "## Datasets <a class=\"anchor\" id=\"datasets\"></a>\n",
    "As mentioned before, we use two datasets for this workshop. One dataset contains medical diagnoses, and the other dataset contains mortality records. Good to point out again, the datasets contain only fictitious data. The datasets are stored at https://github.com/J535D165/Data-Science-Day/tree/master/data. Both datasets are comma separated values (CSV) files, and utf-8 encoded. The package ``pandas`` has some excellent [functions to read and write text data files](http://pandas.pydata.org/pandas-docs/stable/io.html). These functions can be used to read local files, but also files from the internet. "
   ]
  },
  {
   "cell_type": "markdown",
   "metadata": {},
   "source": [
    "### Mortality register dataset <a class=\"anchor\" id=\"dataset-mortality\"></a>\n",
    "The mortality register dataset contains data about 100 deceased people. Each record contains information about one of them. The data includes the following seven variables (stored in separate columns):\n",
    "\n",
    "| Variable/Column| Description                                  |\n",
    "|----------------|----------------------------------------------|\n",
    "| patient_id     | A unique personal identifier                 |\n",
    "| date_of_death  | The date (and time) of death of the deceased |\n",
    "| place_of_death | The address of death                         |\n",
    "| date_of_birth  | The date (and time) of birth                 |\n",
    "| first_name     | The given name of the deceased               |\n",
    "| last_name      | The last name of the deceased                |\n",
    "| sex            | The sex of the deceased                      |"
   ]
  },
  {
   "cell_type": "code",
   "execution_count": 2,
   "metadata": {
    "collapsed": false
   },
   "outputs": [
    {
     "name": "stdout",
     "output_type": "stream",
     "text": [
      "['patient_id', 'date_of_death', 'place_of_death', 'date_of_birth', 'first_name', 'last_name', 'sex']\n"
     ]
    }
   ],
   "source": [
    "# read the mortality register data into memory\n",
    "file_path_mort = 'https://raw.githubusercontent.com/J535D165/Data-Science-Day/master/data/mortality_register.csv'\n",
    "df_mort = pandas.read_csv(file_path_mort)\n",
    "\n",
    "# get the given column names\n",
    "print(list(df_mort))"
   ]
  },
  {
   "cell_type": "markdown",
   "metadata": {},
   "source": [
    "### Hospital dataset <a class=\"anchor\" id=\"dataset-hospital\"></a>\n",
    "\n",
    "The hospital dataset provides information about diagnoses and\n",
    "treatments in hospitals. The diagnoses are classified with the 10th\n",
    "revision of the [International Statistical Classification of Diseases and\n",
    "Related Health Problems (ICD-10)](http://www.who.int/classifications/icd/en/). The dataset we are using contains 800 records. Each record\n",
    "represents one diagnosis and assigns to a patient with a unique\n",
    "personal identifier. This personal identifier is the same identifier as found in the mortality dataset. The following variables are included:\n",
    "\n",
    "| Variable/Column| Description                                  |\n",
    "|----------------|----------------------------------------------|\n",
    "| patient_id     | A unique personal identifier                 |\n",
    "| ICD10          | The International Classification of Diseases |\n",
    "| datetime       | The date and time of the diagnosis           |\n"
   ]
  },
  {
   "cell_type": "code",
   "execution_count": 3,
   "metadata": {
    "collapsed": false
   },
   "outputs": [
    {
     "name": "stdout",
     "output_type": "stream",
     "text": [
      "['patient_id', 'ICD10', 'datetime']\n"
     ]
    }
   ],
   "source": [
    "# read the hospital diagnosis data into memory\n",
    "file_path_hosp = 'https://raw.githubusercontent.com/J535D165/Data-Science-Day/master/data/hospital_data.csv'\n",
    "df_hosp = pandas.read_csv(file_path_hosp)\n",
    "\n",
    "# get the given column names\n",
    "print(list(df_hosp))"
   ]
  },
  {
   "cell_type": "markdown",
   "metadata": {},
   "source": [
    "## Explore the data <a class=\"anchor\" id=\"explore\"></a>\n",
    "The most essential part in data handling and cleaning is exploring the data. This part can take a relatively large amount of your time, but can be critical in your research. The most basic type of exploring to data is just by looking to some records. There are also more systematic approaches possible. Some tips when exploring data:\n",
    "\n",
    "- Read the datasets metadata is available.\n",
    "- Check [data types](https://en.wikipedia.org/wiki/Data_type)\n",
    "- Check record identifiers and subject/entity identifiers (are they unique or not?)\n",
    "- Count the number of unique observations for each variable and is this more or less than the number of possible outcomes?\n",
    "- Sort the data on interesting variables.\n",
    "- Find out how the (date) observations are formatted.\n",
    "- Visualize histograms or distributions (of counts).\n",
    "- Identify (all) overlapping variables between datasets."
   ]
  },
  {
   "cell_type": "code",
   "execution_count": 4,
   "metadata": {
    "collapsed": false
   },
   "outputs": [
    {
     "data": {
      "text/html": [
       "<div>\n",
       "<table border=\"1\" class=\"dataframe\">\n",
       "  <thead>\n",
       "    <tr style=\"text-align: right;\">\n",
       "      <th></th>\n",
       "      <th>patient_id</th>\n",
       "      <th>date_of_death</th>\n",
       "      <th>place_of_death</th>\n",
       "      <th>date_of_birth</th>\n",
       "      <th>first_name</th>\n",
       "      <th>last_name</th>\n",
       "      <th>sex</th>\n",
       "    </tr>\n",
       "  </thead>\n",
       "  <tbody>\n",
       "    <tr>\n",
       "      <th>0</th>\n",
       "      <td>e3e70682-c209-4cac-629f-6fbed82c07cd</td>\n",
       "      <td>2012-11-22 18:21:09</td>\n",
       "      <td>4759 William Haven Apt. 194, West Corey</td>\n",
       "      <td>1972-06-06 16:13:46</td>\n",
       "      <td>Steve</td>\n",
       "      <td>Williams</td>\n",
       "      <td>Male</td>\n",
       "    </tr>\n",
       "    <tr>\n",
       "      <th>1</th>\n",
       "      <td>cd613e30-d8f1-6adf-91b7-584a2265b1f5</td>\n",
       "      <td>2009-09-06</td>\n",
       "      <td>77763 Tony Village Suite 690, Adamsbury</td>\n",
       "      <td>1938-04-15 06:47:45</td>\n",
       "      <td>Ryan</td>\n",
       "      <td>Gallagher</td>\n",
       "      <td>Male</td>\n",
       "    </tr>\n",
       "    <tr>\n",
       "      <th>2</th>\n",
       "      <td>d95bafc8-f2a4-d27b-dcf4-bb99f4bea973</td>\n",
       "      <td>2001-07-23 03:06:50</td>\n",
       "      <td>9390 Yvonne Route Suite 858, Shawton WA</td>\n",
       "      <td>1927-09-12 05:25:03</td>\n",
       "      <td>A.</td>\n",
       "      <td>Houston</td>\n",
       "      <td>NaN</td>\n",
       "    </tr>\n",
       "    <tr>\n",
       "      <th>3</th>\n",
       "      <td>21636369-8b52-9b4a-97b7-50923ceb3ffd</td>\n",
       "      <td>2010-01-30</td>\n",
       "      <td>NaN</td>\n",
       "      <td>1952-05-21 07:32:09</td>\n",
       "      <td>Joshua</td>\n",
       "      <td>Wood</td>\n",
       "      <td>Male</td>\n",
       "    </tr>\n",
       "    <tr>\n",
       "      <th>4</th>\n",
       "      <td>b8a1abcd-1a69-16c7-4dal-f9fc3c6da5d7</td>\n",
       "      <td>2005-02-27</td>\n",
       "      <td>10684 Jeffrey Plain, Joshuaburgh VT</td>\n",
       "      <td>1952-02-16</td>\n",
       "      <td>Brian</td>\n",
       "      <td>FOSTER</td>\n",
       "      <td>Male</td>\n",
       "    </tr>\n",
       "    <tr>\n",
       "      <th>5</th>\n",
       "      <td>5bc8fbbc-bde5-c099-4164-d8399f767c45</td>\n",
       "      <td>2012-08-14 08:17:39</td>\n",
       "      <td>3021 HARRISON GATEWAY, STEPHENSSHIRE ID</td>\n",
       "      <td>1954-10-07 06:27:01</td>\n",
       "      <td>Heather</td>\n",
       "      <td>Vaughn</td>\n",
       "      <td>Female</td>\n",
       "    </tr>\n",
       "    <tr>\n",
       "      <th>6</th>\n",
       "      <td>14a03569-d26b-9496-92e5-dfe8cb1b55fe</td>\n",
       "      <td>2013-12-25 10:40:18</td>\n",
       "      <td>29755 JOSEPH UNIONS, LAKE MONIQUE</td>\n",
       "      <td>1998-02-04 18:43:48</td>\n",
       "      <td>Angela</td>\n",
       "      <td>Gill</td>\n",
       "      <td>Female</td>\n",
       "    </tr>\n",
       "    <tr>\n",
       "      <th>7</th>\n",
       "      <td>6513270e-269e-0d37-f2a7-4de452e6b438</td>\n",
       "      <td>2002-07-26</td>\n",
       "      <td>9083 CHRISTOPHER MANOR, EAST CHRISTOPHERCHESTER</td>\n",
       "      <td>1964-01-27</td>\n",
       "      <td>James</td>\n",
       "      <td>WILLIAMS</td>\n",
       "      <td>NaN</td>\n",
       "    </tr>\n",
       "    <tr>\n",
       "      <th>8</th>\n",
       "      <td>6018366c-f658-f7a7-5ed3-4fe53a096533</td>\n",
       "      <td>2006-04-20</td>\n",
       "      <td>23836 Stephen Motorway Simpsonborough WI</td>\n",
       "      <td>1950-11-08 15:18:07</td>\n",
       "      <td>V.</td>\n",
       "      <td>Martinez</td>\n",
       "      <td>Male</td>\n",
       "    </tr>\n",
       "    <tr>\n",
       "      <th>9</th>\n",
       "      <td>4462ebfc-5f91-5ef0-9cfb-ace67687a66e</td>\n",
       "      <td>2010-06-07 10:17:01</td>\n",
       "      <td>8791 Spencer Ridges, Lake Nicholasmouth RI</td>\n",
       "      <td>1983-01-06 05:58:02</td>\n",
       "      <td>J.</td>\n",
       "      <td>Taylor</td>\n",
       "      <td>Male</td>\n",
       "    </tr>\n",
       "  </tbody>\n",
       "</table>\n",
       "</div>"
      ],
      "text/plain": [
       "                             patient_id        date_of_death  \\\n",
       "0  e3e70682-c209-4cac-629f-6fbed82c07cd  2012-11-22 18:21:09   \n",
       "1  cd613e30-d8f1-6adf-91b7-584a2265b1f5           2009-09-06   \n",
       "2  d95bafc8-f2a4-d27b-dcf4-bb99f4bea973  2001-07-23 03:06:50   \n",
       "3  21636369-8b52-9b4a-97b7-50923ceb3ffd           2010-01-30   \n",
       "4  b8a1abcd-1a69-16c7-4dal-f9fc3c6da5d7           2005-02-27   \n",
       "5  5bc8fbbc-bde5-c099-4164-d8399f767c45  2012-08-14 08:17:39   \n",
       "6  14a03569-d26b-9496-92e5-dfe8cb1b55fe  2013-12-25 10:40:18   \n",
       "7  6513270e-269e-0d37-f2a7-4de452e6b438           2002-07-26   \n",
       "8  6018366c-f658-f7a7-5ed3-4fe53a096533           2006-04-20   \n",
       "9  4462ebfc-5f91-5ef0-9cfb-ace67687a66e  2010-06-07 10:17:01   \n",
       "\n",
       "                                    place_of_death        date_of_birth  \\\n",
       "0          4759 William Haven Apt. 194, West Corey  1972-06-06 16:13:46   \n",
       "1          77763 Tony Village Suite 690, Adamsbury  1938-04-15 06:47:45   \n",
       "2          9390 Yvonne Route Suite 858, Shawton WA  1927-09-12 05:25:03   \n",
       "3                                              NaN  1952-05-21 07:32:09   \n",
       "4              10684 Jeffrey Plain, Joshuaburgh VT           1952-02-16   \n",
       "5          3021 HARRISON GATEWAY, STEPHENSSHIRE ID  1954-10-07 06:27:01   \n",
       "6                29755 JOSEPH UNIONS, LAKE MONIQUE  1998-02-04 18:43:48   \n",
       "7  9083 CHRISTOPHER MANOR, EAST CHRISTOPHERCHESTER           1964-01-27   \n",
       "8         23836 Stephen Motorway Simpsonborough WI  1950-11-08 15:18:07   \n",
       "9       8791 Spencer Ridges, Lake Nicholasmouth RI  1983-01-06 05:58:02   \n",
       "\n",
       "  first_name  last_name     sex  \n",
       "0      Steve   Williams    Male  \n",
       "1       Ryan  Gallagher    Male  \n",
       "2         A.    Houston     NaN  \n",
       "3     Joshua       Wood    Male  \n",
       "4      Brian     FOSTER    Male  \n",
       "5    Heather     Vaughn  Female  \n",
       "6     Angela       Gill  Female  \n",
       "7      James   WILLIAMS     NaN  \n",
       "8         V.   Martinez    Male  \n",
       "9         J.     Taylor    Male  "
      ]
     },
     "execution_count": 4,
     "metadata": {},
     "output_type": "execute_result"
    }
   ],
   "source": [
    "# view the first 10 records of the mortality dataset\n",
    "df_mort.head(10)"
   ]
  },
  {
   "cell_type": "code",
   "execution_count": 5,
   "metadata": {
    "collapsed": false
   },
   "outputs": [
    {
     "data": {
      "text/html": [
       "<div>\n",
       "<table border=\"1\" class=\"dataframe\">\n",
       "  <thead>\n",
       "    <tr style=\"text-align: right;\">\n",
       "      <th></th>\n",
       "      <th>patient_id</th>\n",
       "      <th>ICD10</th>\n",
       "      <th>datetime</th>\n",
       "    </tr>\n",
       "  </thead>\n",
       "  <tbody>\n",
       "    <tr>\n",
       "      <th>0</th>\n",
       "      <td>988a0c48-5979-91d1-7000-368d2534c02d</td>\n",
       "      <td>V97.33XD</td>\n",
       "      <td>2000-11-21 09:01:32</td>\n",
       "    </tr>\n",
       "    <tr>\n",
       "      <th>1</th>\n",
       "      <td>5d357ffe-4423-f60d-db0e-da407f5e8e61</td>\n",
       "      <td>W51.XXXA</td>\n",
       "      <td>2004-07-21 07:54:46</td>\n",
       "    </tr>\n",
       "    <tr>\n",
       "      <th>2</th>\n",
       "      <td>d95bafc8-f2a4-d27b-dcf4-bb99f4bea973</td>\n",
       "      <td>V00.01XD</td>\n",
       "      <td>2001-06-25 19:13:09</td>\n",
       "    </tr>\n",
       "    <tr>\n",
       "      <th>3</th>\n",
       "      <td>8dbb5b2a-6e20-af8e-1001-a6625a1298a1</td>\n",
       "      <td>Y93.D</td>\n",
       "      <td>2006-12-05 12:17:36</td>\n",
       "    </tr>\n",
       "    <tr>\n",
       "      <th>4</th>\n",
       "      <td>5532e8ba-3083-d49e-f945-e4b665c1d4b4</td>\n",
       "      <td>Z99.89</td>\n",
       "      <td>2004-07-14 08:23:10</td>\n",
       "    </tr>\n",
       "    <tr>\n",
       "      <th>5</th>\n",
       "      <td>0b07502e-d4c6-eb9c-9331-06745b3ce9b3</td>\n",
       "      <td>Y92.146</td>\n",
       "      <td>2001-10-31 05:25:21</td>\n",
       "    </tr>\n",
       "    <tr>\n",
       "      <th>6</th>\n",
       "      <td>f8463cd1-8389-7c06-8827-ecebc299f156</td>\n",
       "      <td>S10.87XA</td>\n",
       "      <td>2000-08-25 02:53:14</td>\n",
       "    </tr>\n",
       "    <tr>\n",
       "      <th>7</th>\n",
       "      <td>6b0404f2-b094-90b8-6b01-a1c12a3a2107</td>\n",
       "      <td>W55.41XA</td>\n",
       "      <td>2006-06-13 20:07:06</td>\n",
       "    </tr>\n",
       "    <tr>\n",
       "      <th>8</th>\n",
       "      <td>cd613e30-d8f1-6adf-91b7-584a2265b1f5</td>\n",
       "      <td>W61.62XD</td>\n",
       "      <td>2009-02-13 20:14:39</td>\n",
       "    </tr>\n",
       "    <tr>\n",
       "      <th>9</th>\n",
       "      <td>7450bc56-6fc6-4ccb-95b5-582a736a9625</td>\n",
       "      <td>Z63.1</td>\n",
       "      <td>2009-07-26 04:02:41</td>\n",
       "    </tr>\n",
       "  </tbody>\n",
       "</table>\n",
       "</div>"
      ],
      "text/plain": [
       "                             patient_id     ICD10             datetime\n",
       "0  988a0c48-5979-91d1-7000-368d2534c02d  V97.33XD  2000-11-21 09:01:32\n",
       "1  5d357ffe-4423-f60d-db0e-da407f5e8e61  W51.XXXA  2004-07-21 07:54:46\n",
       "2  d95bafc8-f2a4-d27b-dcf4-bb99f4bea973  V00.01XD  2001-06-25 19:13:09\n",
       "3  8dbb5b2a-6e20-af8e-1001-a6625a1298a1     Y93.D  2006-12-05 12:17:36\n",
       "4  5532e8ba-3083-d49e-f945-e4b665c1d4b4    Z99.89  2004-07-14 08:23:10\n",
       "5  0b07502e-d4c6-eb9c-9331-06745b3ce9b3   Y92.146  2001-10-31 05:25:21\n",
       "6  f8463cd1-8389-7c06-8827-ecebc299f156  S10.87XA  2000-08-25 02:53:14\n",
       "7  6b0404f2-b094-90b8-6b01-a1c12a3a2107  W55.41XA  2006-06-13 20:07:06\n",
       "8  cd613e30-d8f1-6adf-91b7-584a2265b1f5  W61.62XD  2009-02-13 20:14:39\n",
       "9  7450bc56-6fc6-4ccb-95b5-582a736a9625     Z63.1  2009-07-26 04:02:41"
      ]
     },
     "execution_count": 5,
     "metadata": {},
     "output_type": "execute_result"
    }
   ],
   "source": [
    "# view the first 10 records of the hospital dataset\n",
    "df_hosp.head(10)"
   ]
  },
  {
   "cell_type": "markdown",
   "metadata": {},
   "source": [
    "### Variable 1: sex <a class=\"anchor\" id=\"explore-var-sex\"></a>\n",
    "In the mortality dataset, the variable *sex* is technically incorrect. There are integers used to encode male and females. Also, there are abbreviations found in the data. We explore this variable by making a histogram of the observation counts.   "
   ]
  },
  {
   "cell_type": "code",
   "execution_count": 6,
   "metadata": {
    "collapsed": false,
    "scrolled": false
   },
   "outputs": [
    {
     "name": "stdout",
     "output_type": "stream",
     "text": [
      "['Male' 'Male' nan 'Male' 'Male' 'Female' 'Female' nan 'Male' 'Male'\n",
      " 'Female' 'Male' '0' '0' '0' 'Female' 'Male' '1' 'Male' 'Female'] \n",
      "\n",
      "object \n",
      "\n",
      "['Male' nan 'Female' '0' '1' 'Fem.'] \n",
      "\n"
     ]
    },
    {
     "data": {
      "text/plain": [
       "<matplotlib.axes._subplots.AxesSubplot at 0x11667ec50>"
      ]
     },
     "execution_count": 6,
     "metadata": {},
     "output_type": "execute_result"
    },
    {
     "data": {
      "image/png": "[encoded data removed]",
      "text/plain": [
       "<matplotlib.figure.Figure at 0x116addcc0>"
      ]
     },
     "metadata": {},
     "output_type": "display_data"
    }
   ],
   "source": [
    "# print the first 20 values\n",
    "print(df_mort[\"sex\"].head(20).values, '\\n')\n",
    "\n",
    "# what is the data type? for example int or float? It is 'object', the \n",
    "# type used by numpy and pandas for columns with strings or mixed types.\n",
    "print(df_mort[\"sex\"].dtype, '\\n')\n",
    "\n",
    "# get all unique values (nan are missing values)\n",
    "print(df_mort[\"sex\"].unique(), '\\n')\n",
    "\n",
    "# count each unique value \n",
    "df_mort[\"sex\"].value_counts()\n",
    "\n",
    "# count each unique value including missing values. Missing values are \n",
    "# excluded by default. Show them by addding the 'dropna=False' argument \n",
    "# to the table function.\n",
    "df_mort[\"sex\"].value_counts(dropna=False)\n",
    "\n",
    "# plot a histogram of value counts \n",
    "df_mort[\"sex\"].value_counts(dropna=False).plot.bar(title=\"Frequency\")"
   ]
  },
  {
   "cell_type": "markdown",
   "metadata": {},
   "source": [
    "### Variable 2: place_of_death <a class=\"anchor\" id=\"explore-var-address\"></a>\n",
    "The place of death is an address which is stored in a single column as text. Such a variable is much harder to explore. You need visual inspection to explore such a variable. In our case, there is some sort of structure in most of the records. "
   ]
  },
  {
   "cell_type": "code",
   "execution_count": 7,
   "metadata": {
    "collapsed": false,
    "scrolled": false
   },
   "outputs": [
    {
     "name": "stdout",
     "output_type": "stream",
     "text": [
      "['4759 William Haven Apt. 194, West Corey'\n",
      " '77763 Tony Village Suite 690, Adamsbury'\n",
      " '9390 Yvonne Route Suite 858, Shawton WA' nan\n",
      " '10684 Jeffrey Plain, Joshuaburgh VT'\n",
      " '3021 HARRISON GATEWAY, STEPHENSSHIRE ID'\n",
      " '29755 JOSEPH UNIONS, LAKE MONIQUE'\n",
      " '9083 CHRISTOPHER MANOR, EAST CHRISTOPHERCHESTER'\n",
      " '23836 Stephen Motorway Simpsonborough WI'\n",
      " '8791 Spencer Ridges, Lake Nicholasmouth RI'\n",
      " '7420 Murphy Gateway, Bradleyberg ND'\n",
      " '8932 SOTO UNDERPASS APT. 174, NORTH AMANDA WV'\n",
      " '0574 Vaughn Rapid, New Aaron MP' '323 DAVID PLACE LAKE KENNETH MN'\n",
      " '4417 Owens Well Longville IL' nan\n",
      " '64330 Turner Isle Apt. 940, New Jon WI'\n",
      " '84103 Ochoa Manor Suite 856, New Bryan VT' '7274 Eaton Flat, Rachelville'\n",
      " '5849 Brooke Coves, Robertview VI'] \n",
      "\n",
      "object \n",
      "\n",
      "97\n"
     ]
    }
   ],
   "source": [
    "# output the value for the first 20 rows\n",
    "print(df_mort[\"place_of_death\"].head(20).values, '\\n')\n",
    "\n",
    "# get the data type of this column\n",
    "print(df_mort[\"place_of_death\"].dtype, '\\n')\n",
    "\n",
    "# The result of the first statement shows that there are a lot of \n",
    "# different addresses in the dataset. Displaying all outcomes is not \n",
    "# useful. Instead of showing everything, we count the number of \n",
    "# unique values. It turns out that there are 97 unique values in \n",
    "# 100 records. \n",
    "print(len(df_mort[\"place_of_death\"].unique()))"
   ]
  },
  {
   "cell_type": "markdown",
   "metadata": {},
   "source": [
    "### Variable 3: ICD10 codes <a class=\"anchor\" id=\"explore-var-icd10\"></a>\n",
    "The ICD-10 code is given for each hospital record. The ICD-10 code is a code found in the 10th revision of the International Statistical Classification of Diseases and Related Health Problems (ICD-10). For this variable, we are making a histogram of frequencies. \n"
   ]
  },
  {
   "cell_type": "code",
   "execution_count": 8,
   "metadata": {
    "collapsed": false
   },
   "outputs": [
    {
     "name": "stdout",
     "output_type": "stream",
     "text": [
      "['V97.33XD' 'W51.XXXA' 'V00.01XD' 'Y93.D' 'Z99.89' 'Y92.146' 'S10.87XA'\n",
      " 'W55.41XA' 'W61.62XD' 'Z63.1' 'W220.2XD' 'V91.07XD' 'W55.29XA' 'V95.43XS'\n",
      " 'W61.12XA' 'R46.1' 'T60.92XS' 'V79.10XA' 'V64.3XXA' 'S20.359D'] \n",
      "\n",
      "object \n",
      "\n",
      "416 \n",
      "\n",
      "1    184\n",
      "2    124\n",
      "3     77\n",
      "4     21\n",
      "5      7\n",
      "6      3\n",
      "Name: ICD10, dtype: int64 \n",
      "\n"
     ]
    },
    {
     "data": {
      "text/plain": [
       "<matplotlib.axes._subplots.AxesSubplot at 0x116add198>"
      ]
     },
     "execution_count": 8,
     "metadata": {},
     "output_type": "execute_result"
    },
    {
     "data": {
      "image/png": "[encoded data removed]",
      "text/plain": [
       "<matplotlib.figure.Figure at 0x11667ee10>"
      ]
     },
     "metadata": {},
     "output_type": "display_data"
    }
   ],
   "source": [
    "# print the first 20 values\n",
    "print(df_hosp[\"ICD10\"].head(20).values, '\\n')\n",
    "\n",
    "# what is the data type?\n",
    "print(df_hosp[\"ICD10\"].dtype, '\\n')\n",
    "\n",
    "# Again, there are a lot of unique values (416 out of 800 records). This\n",
    "# is still to much for making tables or plots.\n",
    "print(len(df_hosp[\"ICD10\"].unique()), '\\n')\n",
    "\n",
    "# But there is another trick. Make a table of tables! This counts the \n",
    "# number of times a ICD-10 code occurs x times. \n",
    "print(df_hosp[\"ICD10\"].value_counts().value_counts(), '\\n')\n",
    "\n",
    "# We can also plot such a table of frequencies. It learns us that there\n",
    "# are no ICD-10 codes that occur more than 6 times. Also, the frequency \n",
    "# of frequencies looks quite exponential decreasing --> so the ICD10 codes \n",
    "# are more or less uniformly distributed. \n",
    "df_hosp[\"ICD10\"].value_counts().value_counts().plot.bar(title=\"Frequency of frequencies\")"
   ]
  },
  {
   "cell_type": "markdown",
   "metadata": {},
   "source": [
    "### Variable 4: Given names <a class=\"anchor\" id=\"explore-var-given-name\"></a>\n",
    "This one is for you. So, ``df_mort[\"first_name\"]``"
   ]
  },
  {
   "cell_type": "code",
   "execution_count": 9,
   "metadata": {
    "collapsed": true
   },
   "outputs": [],
   "source": [
    "# up to you\n"
   ]
  },
  {
   "cell_type": "markdown",
   "metadata": {},
   "source": [
    "### Variable 5: Date of death <a class=\"anchor\" id=\"explore-var-date\"></a>\n",
    "This one is for also you and a bit more challenging. So, ``df_mort['date_of_death']``"
   ]
  },
  {
   "cell_type": "code",
   "execution_count": 10,
   "metadata": {
    "collapsed": true
   },
   "outputs": [],
   "source": [
    "# up to you\n"
   ]
  },
  {
   "cell_type": "markdown",
   "metadata": {},
   "source": [
    "## Clean the data <a class=\"anchor\" id=\"clean\"></a>\n",
    "We do have a good feeling for the data now. Now we can start with cleaning the data. Data cleaning, often named data cleansing, is the process that is described by Wikipedia as:\n",
    "\n",
    "> Data cleansing, data cleaning, or data scrubbing is the process of detecting and correcting (or removing) corrupt or inaccurate records from a record set, table, or database and refers to identifying incomplete, incorrect, inaccurate or irrelevant parts of the data and then replacing, modifying, or deleting the dirty or coarse data. Data cleansing may be performed interactively with data wrangling tools, or as batch processing through scripting. ([Wikipedia, Data Cleansing](https://en.wikipedia.org/wiki/Data_wrangling))\n",
    "\n",
    "Sometimes it is hard to decide whether to clean everything by hand (data munging/wrangling) with tools like OpenRefine and Excel, or to clean by scripting. In general, large datasets are better to script, while smaller ones can be cleaned by hand within the time of a coffee break. Switching from data munging to scripting is no waste of time, because it improves the quality of the script. "
   ]
  },
  {
   "cell_type": "markdown",
   "metadata": {},
   "source": [
    "### Clean variable 1: sex <a class=\"anchor\" id=\"clean-sex\"></a>\n",
    "We start with the variable that encodes the sex of the deceased. We saw before that this variable contains abbreviations and integer encoding. "
   ]
  },
  {
   "cell_type": "code",
   "execution_count": 11,
   "metadata": {
    "collapsed": false
   },
   "outputs": [
    {
     "name": "stdout",
     "output_type": "stream",
     "text": [
      "['Male' nan 'Female' '0' '1' 'Fem.']\n",
      "['Male' nan 'Female' 'Fem.']\n",
      "['Male' nan 'Female']\n"
     ]
    }
   ],
   "source": [
    "# unique values at start\n",
    "print(df_mort['sex'].unique())\n",
    "\n",
    "# replace inconsistent values\n",
    "df_mort.loc[df_mort['sex'] == \"0\", 'sex'] = \"Male\"\n",
    "df_mort.loc[df_mort['sex'] == \"1\", 'sex'] = \"Female\"\n",
    "df_mort.loc[df_mort['sex'] == \"\", 'sex'] = numpy.nan # Not Available\n",
    "\n",
    "# check the intermediate result (still one abbraviation in there)\n",
    "print(df_mort['sex'].unique())\n",
    "\n",
    "# you can also check for the first letters with the startswith function\n",
    "df_mort.loc[df_mort['sex'].str.startswith(\"F\") == True, 'sex'] = \"Female\"\n",
    "\n",
    "# The unique outcomes after cleaning. \n",
    "print(df_mort['sex'].unique())\n"
   ]
  },
  {
   "cell_type": "markdown",
   "metadata": {},
   "source": [
    "### Clean variable 2: last name <a class=\"anchor\" id=\"clean-last-name\"></a>\n",
    "Some last names are uppercase. This is inconsistent and needs to be fixed."
   ]
  },
  {
   "cell_type": "code",
   "execution_count": 12,
   "metadata": {
    "collapsed": false
   },
   "outputs": [],
   "source": [
    "# Capatilize the first letter and lower all other letters\n",
    "df_mort['last_name'] = df_mort['last_name'].str.title()"
   ]
  },
  {
   "cell_type": "markdown",
   "metadata": {},
   "source": [
    "### Clean variable 3: first name\n",
    "The given/first name does not need a lot of cleaning. Can you make a column with the first letters of the deceased peoples and the full given name if available?\n",
    "\n",
    "Hint: ``df_mort['first_name'].str[0]`` extracts the first letter and ``df_mort['first_name'].str[-1]`` the last letter. "
   ]
  },
  {
   "cell_type": "code",
   "execution_count": 13,
   "metadata": {
    "collapsed": false
   },
   "outputs": [],
   "source": [
    "# up to you\n"
   ]
  },
  {
   "cell_type": "markdown",
   "metadata": {},
   "source": [
    "## Information extraction <a class=\"anchor\" id=\"extract\"></a>\n",
    "The address variable contains information about the state, postal code, street name and house number. In this step, the relevant attributes are extracted from the single column variable ``place_of_death`` and stored in multiple columns. This process is part of *information extraction*. Information extraction is the process of automatically extracting structured information from unstructured (text) data. \n",
    "\n",
    "For this part, we use regular expressions. Regular expressions are a powerful tool to extract information from text. Although it is sometimes a bit hard to understand, it is very useful to learn. Regular expressions can also be used in Excel, OpenRefine and SPSS. There are plenty of online tools to learn about regular expressions and to test them (http://regexr.com/)."
   ]
  },
  {
   "cell_type": "code",
   "execution_count": 14,
   "metadata": {
    "collapsed": false,
    "scrolled": false
   },
   "outputs": [
    {
     "data": {
      "text/html": [
       "<div>\n",
       "<table border=\"1\" class=\"dataframe\">\n",
       "  <thead>\n",
       "    <tr style=\"text-align: right;\">\n",
       "      <th></th>\n",
       "      <th>patient_id</th>\n",
       "      <th>date_of_death</th>\n",
       "      <th>place_of_death</th>\n",
       "      <th>date_of_birth</th>\n",
       "      <th>first_name</th>\n",
       "      <th>last_name</th>\n",
       "      <th>sex</th>\n",
       "      <th>postal_code</th>\n",
       "      <th>state</th>\n",
       "      <th>street</th>\n",
       "      <th>housenumber</th>\n",
       "      <th>placename</th>\n",
       "    </tr>\n",
       "  </thead>\n",
       "  <tbody>\n",
       "    <tr>\n",
       "      <th>95</th>\n",
       "      <td>f8463cd1-8389-7c06-8827-ecebc299f156</td>\n",
       "      <td>2008-09-27 18:53:04</td>\n",
       "      <td>0209 Crystal Valley North Ashley NH</td>\n",
       "      <td>1992-05-20 22:25:59</td>\n",
       "      <td>Tracy</td>\n",
       "      <td>Doyle</td>\n",
       "      <td>Female</td>\n",
       "      <td>0209</td>\n",
       "      <td>NH</td>\n",
       "      <td>Crystal Valley North Ashley</td>\n",
       "      <td></td>\n",
       "      <td></td>\n",
       "    </tr>\n",
       "    <tr>\n",
       "      <th>96</th>\n",
       "      <td>ac6289f7-e85a-1ee9-508d-be225edf44c0</td>\n",
       "      <td>2005-05-09</td>\n",
       "      <td>50026 Miller Junction, Joshuahaven UT</td>\n",
       "      <td>1970-06-09 08:54:20</td>\n",
       "      <td>Terry</td>\n",
       "      <td>Foster</td>\n",
       "      <td>Male</td>\n",
       "      <td>50026</td>\n",
       "      <td>UT</td>\n",
       "      <td>Miller Junction</td>\n",
       "      <td></td>\n",
       "      <td>Joshuahaven</td>\n",
       "    </tr>\n",
       "    <tr>\n",
       "      <th>97</th>\n",
       "      <td>fec20c5f-ce5b-14fe-6dd0-9a3531cd3165</td>\n",
       "      <td>2007-04-19</td>\n",
       "      <td>080 Pamela Via, Michealland OH</td>\n",
       "      <td>1946-06-23 12:38:57</td>\n",
       "      <td>Robert</td>\n",
       "      <td>Watson</td>\n",
       "      <td>Male</td>\n",
       "      <td>080</td>\n",
       "      <td>OH</td>\n",
       "      <td>Pamela Via</td>\n",
       "      <td></td>\n",
       "      <td>Michealland</td>\n",
       "    </tr>\n",
       "    <tr>\n",
       "      <th>98</th>\n",
       "      <td>0b07502e-d4c6-eb9c-9331-06745b3ce9b3</td>\n",
       "      <td>2009-10-12</td>\n",
       "      <td>4817 Raymond Shoal, Adamtown SD</td>\n",
       "      <td>1968-07-03 16:17:51</td>\n",
       "      <td>Ronald</td>\n",
       "      <td>Gomez</td>\n",
       "      <td>NaN</td>\n",
       "      <td>4817</td>\n",
       "      <td>SD</td>\n",
       "      <td>Raymond Shoal</td>\n",
       "      <td></td>\n",
       "      <td>Adamtown</td>\n",
       "    </tr>\n",
       "    <tr>\n",
       "      <th>99</th>\n",
       "      <td>9974d75b-3338-24fe-6179-0134676b1b69</td>\n",
       "      <td>2006-06-23 22:56:54</td>\n",
       "      <td>14688 Shawna Overpass South Jennifer NC</td>\n",
       "      <td>1974-12-24 21:17:25</td>\n",
       "      <td>C.</td>\n",
       "      <td>White</td>\n",
       "      <td>Male</td>\n",
       "      <td>14688</td>\n",
       "      <td>NC</td>\n",
       "      <td>Shawna Overpass South Jennifer</td>\n",
       "      <td></td>\n",
       "      <td></td>\n",
       "    </tr>\n",
       "  </tbody>\n",
       "</table>\n",
       "</div>"
      ],
      "text/plain": [
       "                              patient_id        date_of_death  \\\n",
       "95  f8463cd1-8389-7c06-8827-ecebc299f156  2008-09-27 18:53:04   \n",
       "96  ac6289f7-e85a-1ee9-508d-be225edf44c0           2005-05-09   \n",
       "97  fec20c5f-ce5b-14fe-6dd0-9a3531cd3165           2007-04-19   \n",
       "98  0b07502e-d4c6-eb9c-9331-06745b3ce9b3           2009-10-12   \n",
       "99  9974d75b-3338-24fe-6179-0134676b1b69  2006-06-23 22:56:54   \n",
       "\n",
       "                             place_of_death        date_of_birth first_name  \\\n",
       "95      0209 Crystal Valley North Ashley NH  1992-05-20 22:25:59      Tracy   \n",
       "96    50026 Miller Junction, Joshuahaven UT  1970-06-09 08:54:20      Terry   \n",
       "97           080 Pamela Via, Michealland OH  1946-06-23 12:38:57     Robert   \n",
       "98          4817 Raymond Shoal, Adamtown SD  1968-07-03 16:17:51     Ronald   \n",
       "99  14688 Shawna Overpass South Jennifer NC  1974-12-24 21:17:25         C.   \n",
       "\n",
       "   last_name     sex postal_code state                          street  \\\n",
       "95     Doyle  Female        0209    NH     Crystal Valley North Ashley   \n",
       "96    Foster    Male       50026    UT                 Miller Junction   \n",
       "97    Watson    Male         080    OH                      Pamela Via   \n",
       "98     Gomez     NaN        4817    SD                   Raymond Shoal   \n",
       "99     White    Male       14688    NC  Shawna Overpass South Jennifer   \n",
       "\n",
       "   housenumber    placename  \n",
       "95                           \n",
       "96              Joshuahaven  \n",
       "97              Michealland  \n",
       "98                 Adamtown  \n",
       "99                           "
      ]
     },
     "execution_count": 14,
     "metadata": {},
     "output_type": "execute_result"
    }
   ],
   "source": [
    "# extract the postal code\n",
    "matches = df_mort['place_of_death'].str.extract(\"^(\\d+)\\s(.*)\", expand=True)\n",
    "df_mort['postal_code'] = matches[0].fillna('')\n",
    "# print(matches.head()) # the output is split into two columns \n",
    "\n",
    "# extract the state code\n",
    "matches = matches[1].str.extract(\"(.*?)(\\s[A-Z]{2}|)$\", expand=True)\n",
    "df_mort['state'] = matches[1].fillna('')\n",
    "\n",
    "# split the street, housenumber and place\n",
    "matches = matches[0].str.extract(\"^([^0-9\\,]+)((\\d*)(\\,\\s|\\s))*(.*?)$\", expand=True)\n",
    "df_mort['street'] = matches[0].fillna('')\n",
    "df_mort['housenumber'] = matches[2].fillna('')\n",
    "df_mort['placename'] = matches[4].fillna('')\n",
    "\n",
    "# The result is not without mistakes. It seems that a bit of data munching is still needed. \n",
    "df_mort.tail()"
   ]
  },
  {
   "cell_type": "markdown",
   "metadata": {},
   "source": [
    "## Enrich the data <a class=\"anchor\" id=\"enrich\"></a>\n",
    "The ICD-10 codes are not very informative without a description of the disease or health problem. In the following notebook cell, we are enriching the hospital data with a description of the ICD-10 codes. The USA government has descriptions of the ICD-10 codes online (https://www.cdc.gov/nchs/icd/icd10.htm). The data is in the Fixed Width Formatted (FWF) data format. \n",
    "\n",
    "A bit bored because everything is already part of your daily routines? Check out these bizarre ICD10 codes: http://www.schumacherclinical.com/health-care-insights/2015/9/top-20-craziest-icd-10-codes. Our favorite is \"Sucked into jet engine, subsequent encounter.\""
   ]
  },
  {
   "cell_type": "code",
   "execution_count": 15,
   "metadata": {
    "collapsed": false,
    "scrolled": false
   },
   "outputs": [
    {
     "data": {
      "text/html": [
       "<div>\n",
       "<table border=\"1\" class=\"dataframe\">\n",
       "  <thead>\n",
       "    <tr style=\"text-align: right;\">\n",
       "      <th></th>\n",
       "      <th>patient_id</th>\n",
       "      <th>ICD10</th>\n",
       "      <th>datetime</th>\n",
       "      <th>Description</th>\n",
       "    </tr>\n",
       "  </thead>\n",
       "  <tbody>\n",
       "    <tr>\n",
       "      <th>0</th>\n",
       "      <td>988a0c48-5979-91d1-7000-368d2534c02d</td>\n",
       "      <td>V97.33XD</td>\n",
       "      <td>2000-11-21 09:01:32</td>\n",
       "      <td>Sucked into jet engine, subsequent encounter</td>\n",
       "    </tr>\n",
       "    <tr>\n",
       "      <th>1</th>\n",
       "      <td>5d357ffe-4423-f60d-db0e-da407f5e8e61</td>\n",
       "      <td>W51.XXXA</td>\n",
       "      <td>2004-07-21 07:54:46</td>\n",
       "      <td>Accidental striking against or bumped into by ...</td>\n",
       "    </tr>\n",
       "    <tr>\n",
       "      <th>2</th>\n",
       "      <td>d95bafc8-f2a4-d27b-dcf4-bb99f4bea973</td>\n",
       "      <td>V00.01XD</td>\n",
       "      <td>2001-06-25 19:13:09</td>\n",
       "      <td>Pedestrian on foot injured in collision with r...</td>\n",
       "    </tr>\n",
       "    <tr>\n",
       "      <th>3</th>\n",
       "      <td>8dbb5b2a-6e20-af8e-1001-a6625a1298a1</td>\n",
       "      <td>Y93.D</td>\n",
       "      <td>2006-12-05 12:17:36</td>\n",
       "      <td>NaN</td>\n",
       "    </tr>\n",
       "    <tr>\n",
       "      <th>4</th>\n",
       "      <td>5532e8ba-3083-d49e-f945-e4b665c1d4b4</td>\n",
       "      <td>Z99.89</td>\n",
       "      <td>2004-07-14 08:23:10</td>\n",
       "      <td>Dependence on other enabling machines and devices</td>\n",
       "    </tr>\n",
       "    <tr>\n",
       "      <th>5</th>\n",
       "      <td>0b07502e-d4c6-eb9c-9331-06745b3ce9b3</td>\n",
       "      <td>Y92.146</td>\n",
       "      <td>2001-10-31 05:25:21</td>\n",
       "      <td>Swimming-pool of prison as the place of occurr...</td>\n",
       "    </tr>\n",
       "    <tr>\n",
       "      <th>6</th>\n",
       "      <td>f8463cd1-8389-7c06-8827-ecebc299f156</td>\n",
       "      <td>S10.87XA</td>\n",
       "      <td>2000-08-25 02:53:14</td>\n",
       "      <td>Other superficial bite of other specified part...</td>\n",
       "    </tr>\n",
       "    <tr>\n",
       "      <th>7</th>\n",
       "      <td>6b0404f2-b094-90b8-6b01-a1c12a3a2107</td>\n",
       "      <td>W55.41XA</td>\n",
       "      <td>2006-06-13 20:07:06</td>\n",
       "      <td>Bitten by pig, initial encounter</td>\n",
       "    </tr>\n",
       "    <tr>\n",
       "      <th>8</th>\n",
       "      <td>cd613e30-d8f1-6adf-91b7-584a2265b1f5</td>\n",
       "      <td>W61.62XD</td>\n",
       "      <td>2009-02-13 20:14:39</td>\n",
       "      <td>Struck by duck, subsequent encounter</td>\n",
       "    </tr>\n",
       "    <tr>\n",
       "      <th>9</th>\n",
       "      <td>7450bc56-6fc6-4ccb-95b5-582a736a9625</td>\n",
       "      <td>Z63.1</td>\n",
       "      <td>2009-07-26 04:02:41</td>\n",
       "      <td>Problems in relationship with in-laws</td>\n",
       "    </tr>\n",
       "  </tbody>\n",
       "</table>\n",
       "</div>"
      ],
      "text/plain": [
       "                             patient_id     ICD10             datetime  \\\n",
       "0  988a0c48-5979-91d1-7000-368d2534c02d  V97.33XD  2000-11-21 09:01:32   \n",
       "1  5d357ffe-4423-f60d-db0e-da407f5e8e61  W51.XXXA  2004-07-21 07:54:46   \n",
       "2  d95bafc8-f2a4-d27b-dcf4-bb99f4bea973  V00.01XD  2001-06-25 19:13:09   \n",
       "3  8dbb5b2a-6e20-af8e-1001-a6625a1298a1     Y93.D  2006-12-05 12:17:36   \n",
       "4  5532e8ba-3083-d49e-f945-e4b665c1d4b4    Z99.89  2004-07-14 08:23:10   \n",
       "5  0b07502e-d4c6-eb9c-9331-06745b3ce9b3   Y92.146  2001-10-31 05:25:21   \n",
       "6  f8463cd1-8389-7c06-8827-ecebc299f156  S10.87XA  2000-08-25 02:53:14   \n",
       "7  6b0404f2-b094-90b8-6b01-a1c12a3a2107  W55.41XA  2006-06-13 20:07:06   \n",
       "8  cd613e30-d8f1-6adf-91b7-584a2265b1f5  W61.62XD  2009-02-13 20:14:39   \n",
       "9  7450bc56-6fc6-4ccb-95b5-582a736a9625     Z63.1  2009-07-26 04:02:41   \n",
       "\n",
       "                                         Description  \n",
       "0       Sucked into jet engine, subsequent encounter  \n",
       "1  Accidental striking against or bumped into by ...  \n",
       "2  Pedestrian on foot injured in collision with r...  \n",
       "3                                                NaN  \n",
       "4  Dependence on other enabling machines and devices  \n",
       "5  Swimming-pool of prison as the place of occurr...  \n",
       "6  Other superficial bite of other specified part...  \n",
       "7                   Bitten by pig, initial encounter  \n",
       "8               Struck by duck, subsequent encounter  \n",
       "9              Problems in relationship with in-laws  "
      ]
     },
     "execution_count": 15,
     "metadata": {},
     "output_type": "execute_result"
    }
   ],
   "source": [
    "# the location of the file with ICD-10 codes\n",
    "file_path_icd10 = \"ftp://ftp.cdc.gov/pub/Health_Statistics/NCHS/Publications/ICD10CM/2017/icd10cm_codes_2017.txt\"\n",
    "\n",
    "# download the data\n",
    "icd10codes = pandas.read_fwf(file_path_icd10, [(0, 8), (8,1000)], \n",
    "                             header=None, \n",
    "                             names=['ICD10', 'Description'])\n",
    "\n",
    "# Add the description of the ICD-10 codes to the hospital data. This is \n",
    "# done with the merge function.\n",
    "\n",
    "# do some cleaning of the ICD-10 codes and store it in a dummy variable\n",
    "df_hosp['ICD10_no_dot'] = df_hosp['ICD10'].str.replace('.', '')\n",
    "\n",
    "# merge the datasets\n",
    "df_hosp = df_hosp.merge(icd10codes, left_on='ICD10_no_dot', right_on='ICD10', how='left', suffixes=['', '_y'])\n",
    "del df_hosp['ICD10_no_dot'] # remove unwanted columns\n",
    "del df_hosp['ICD10_y']\n",
    "\n",
    "# show the first records.\n",
    "df_hosp.head(10)"
   ]
  },
  {
   "cell_type": "markdown",
   "metadata": {},
   "source": [
    "## Transform the data <a class=\"anchor\" id=\"transform\"></a>\n",
    "\n",
    "The hospital data may contain multiple diagnoses for the same patient. Sometimes, it is desirable to have one record for each patient and store the information in the columns. This requires transforming the data. Data transformation is very easy with ``pandas``. There are advanced functions available, such as ``stack`` and ``unstack``. The function ``pandas.crosstab`` is very useful to make cross tables (such as you do quite often in Excel). We are using the function ``crosstab`` for the transformation of data. "
   ]
  },
  {
   "cell_type": "code",
   "execution_count": 16,
   "metadata": {
    "collapsed": false,
    "scrolled": false
   },
   "outputs": [
    {
     "data": {
      "text/html": [
       "<div>\n",
       "<table border=\"1\" class=\"dataframe\">\n",
       "  <thead>\n",
       "    <tr style=\"text-align: right;\">\n",
       "      <th>ICD10_class</th>\n",
       "      <th>ICD-10-B</th>\n",
       "      <th>ICD-10-I</th>\n",
       "      <th>ICD-10-M</th>\n",
       "      <th>ICD-10-Q</th>\n",
       "      <th>ICD-10-R</th>\n",
       "      <th>ICD-10-S</th>\n",
       "      <th>ICD-10-T</th>\n",
       "      <th>ICD-10-V</th>\n",
       "      <th>ICD-10-W</th>\n",
       "      <th>ICD-10-X</th>\n",
       "      <th>ICD-10-Y</th>\n",
       "      <th>ICD-10-Z</th>\n",
       "    </tr>\n",
       "    <tr>\n",
       "      <th>patient_id</th>\n",
       "      <th></th>\n",
       "      <th></th>\n",
       "      <th></th>\n",
       "      <th></th>\n",
       "      <th></th>\n",
       "      <th></th>\n",
       "      <th></th>\n",
       "      <th></th>\n",
       "      <th></th>\n",
       "      <th></th>\n",
       "      <th></th>\n",
       "      <th></th>\n",
       "    </tr>\n",
       "  </thead>\n",
       "  <tbody>\n",
       "    <tr>\n",
       "      <th>02f16d3d-8f4c-29e7-d92b-0703f7467ac9</th>\n",
       "      <td>0</td>\n",
       "      <td>0</td>\n",
       "      <td>0</td>\n",
       "      <td>1</td>\n",
       "      <td>0</td>\n",
       "      <td>7</td>\n",
       "      <td>3</td>\n",
       "      <td>2</td>\n",
       "      <td>0</td>\n",
       "      <td>0</td>\n",
       "      <td>0</td>\n",
       "      <td>0</td>\n",
       "    </tr>\n",
       "    <tr>\n",
       "      <th>055665f0-fbb3-e84e-0ef1-52125425b7b2</th>\n",
       "      <td>0</td>\n",
       "      <td>0</td>\n",
       "      <td>0</td>\n",
       "      <td>0</td>\n",
       "      <td>0</td>\n",
       "      <td>2</td>\n",
       "      <td>1</td>\n",
       "      <td>2</td>\n",
       "      <td>0</td>\n",
       "      <td>0</td>\n",
       "      <td>0</td>\n",
       "      <td>0</td>\n",
       "    </tr>\n",
       "    <tr>\n",
       "      <th>06a3f5be-62a9-701b-4279-530735b8cfae</th>\n",
       "      <td>0</td>\n",
       "      <td>1</td>\n",
       "      <td>0</td>\n",
       "      <td>1</td>\n",
       "      <td>0</td>\n",
       "      <td>7</td>\n",
       "      <td>1</td>\n",
       "      <td>1</td>\n",
       "      <td>0</td>\n",
       "      <td>0</td>\n",
       "      <td>0</td>\n",
       "      <td>0</td>\n",
       "    </tr>\n",
       "    <tr>\n",
       "      <th>07158ab7-95f3-8183-5b69-13cd87684f34</th>\n",
       "      <td>0</td>\n",
       "      <td>1</td>\n",
       "      <td>0</td>\n",
       "      <td>0</td>\n",
       "      <td>0</td>\n",
       "      <td>6</td>\n",
       "      <td>1</td>\n",
       "      <td>1</td>\n",
       "      <td>1</td>\n",
       "      <td>0</td>\n",
       "      <td>1</td>\n",
       "      <td>0</td>\n",
       "    </tr>\n",
       "    <tr>\n",
       "      <th>0a3aee49-6666-0879-138d-da71e3658966</th>\n",
       "      <td>0</td>\n",
       "      <td>1</td>\n",
       "      <td>0</td>\n",
       "      <td>0</td>\n",
       "      <td>0</td>\n",
       "      <td>5</td>\n",
       "      <td>1</td>\n",
       "      <td>1</td>\n",
       "      <td>1</td>\n",
       "      <td>0</td>\n",
       "      <td>1</td>\n",
       "      <td>1</td>\n",
       "    </tr>\n",
       "  </tbody>\n",
       "</table>\n",
       "</div>"
      ],
      "text/plain": [
       "ICD10_class                           ICD-10-B  ICD-10-I  ICD-10-M  ICD-10-Q  \\\n",
       "patient_id                                                                     \n",
       "02f16d3d-8f4c-29e7-d92b-0703f7467ac9         0         0         0         1   \n",
       "055665f0-fbb3-e84e-0ef1-52125425b7b2         0         0         0         0   \n",
       "06a3f5be-62a9-701b-4279-530735b8cfae         0         1         0         1   \n",
       "07158ab7-95f3-8183-5b69-13cd87684f34         0         1         0         0   \n",
       "0a3aee49-6666-0879-138d-da71e3658966         0         1         0         0   \n",
       "\n",
       "ICD10_class                           ICD-10-R  ICD-10-S  ICD-10-T  ICD-10-V  \\\n",
       "patient_id                                                                     \n",
       "02f16d3d-8f4c-29e7-d92b-0703f7467ac9         0         7         3         2   \n",
       "055665f0-fbb3-e84e-0ef1-52125425b7b2         0         2         1         2   \n",
       "06a3f5be-62a9-701b-4279-530735b8cfae         0         7         1         1   \n",
       "07158ab7-95f3-8183-5b69-13cd87684f34         0         6         1         1   \n",
       "0a3aee49-6666-0879-138d-da71e3658966         0         5         1         1   \n",
       "\n",
       "ICD10_class                           ICD-10-W  ICD-10-X  ICD-10-Y  ICD-10-Z  \n",
       "patient_id                                                                    \n",
       "02f16d3d-8f4c-29e7-d92b-0703f7467ac9         0         0         0         0  \n",
       "055665f0-fbb3-e84e-0ef1-52125425b7b2         0         0         0         0  \n",
       "06a3f5be-62a9-701b-4279-530735b8cfae         0         0         0         0  \n",
       "07158ab7-95f3-8183-5b69-13cd87684f34         1         0         1         0  \n",
       "0a3aee49-6666-0879-138d-da71e3658966         1         0         1         1  "
      ]
     },
     "execution_count": 16,
     "metadata": {},
     "output_type": "execute_result"
    }
   ],
   "source": [
    "# make a column with the ICD class of each ICD-code. (this is the first letter)\n",
    "df_hosp['ICD10_class'] = \"ICD-10-\" + df_hosp['ICD10'].str[0]\n",
    "\n",
    "# make a cross table with the frequencies \n",
    "pandas.crosstab(df_hosp['patient_id'], df_hosp['ICD10_class']).head()"
   ]
  },
  {
   "cell_type": "markdown",
   "metadata": {},
   "source": [
    "## Integrate the datasets <a class=\"anchor\" id=\"integrate\"></a>\n",
    "In this step, we unify the mortality register data and the hospital data. This will result into one unified dataset that is ready for scientific research. This process is called 'data integration' and is a very active research field in computer and data science. Wikipedia describes \"Data Integration\" as:\n",
    "\n",
    "> Data integration involves combining data residing in different sources and providing users with a unified view of these data. This process becomes significant in a variety of situations, which include both commercial and scientific domains. Data integration appears with increasing frequency as the volume and the need to share existing data explodes. It has become the focus of extensive theoretical work, and numerous open problems remain unsolved. ([Wikipedia 2017, Data Integration](https://en.wikipedia.org/wiki/Data_integration))\n",
    "\n",
    "The python programming language has good (built-in) functionalities for data integration (but they may have a steep learning curve). However, ``pandas`` has some excellent and easy tools for data integration. One function that is extremely useful is the intuitive method ``merge`` . This method can be used to merge files into one file. See the [documentation](http://pandas.pydata.org/pandas-docs/stable/generated/pandas.DataFrame.merge.html) for more information. "
   ]
  },
  {
   "cell_type": "code",
   "execution_count": 17,
   "metadata": {
    "collapsed": false
   },
   "outputs": [
    {
     "name": "stdout",
     "output_type": "stream",
     "text": [
      "716 \n",
      "\n"
     ]
    },
    {
     "data": {
      "text/html": [
       "<div>\n",
       "<table border=\"1\" class=\"dataframe\">\n",
       "  <thead>\n",
       "    <tr style=\"text-align: right;\">\n",
       "      <th></th>\n",
       "      <th>patient_id</th>\n",
       "      <th>date_of_death</th>\n",
       "      <th>place_of_death</th>\n",
       "      <th>date_of_birth</th>\n",
       "      <th>first_name</th>\n",
       "      <th>last_name</th>\n",
       "      <th>sex</th>\n",
       "      <th>postal_code</th>\n",
       "      <th>state</th>\n",
       "      <th>street</th>\n",
       "      <th>housenumber</th>\n",
       "      <th>placename</th>\n",
       "      <th>ICD10</th>\n",
       "      <th>datetime</th>\n",
       "      <th>Description</th>\n",
       "      <th>ICD10_class</th>\n",
       "    </tr>\n",
       "  </thead>\n",
       "  <tbody>\n",
       "    <tr>\n",
       "      <th>0</th>\n",
       "      <td>e3e70682-c209-4cac-629f-6fbed82c07cd</td>\n",
       "      <td>2012-11-22 18:21:09</td>\n",
       "      <td>4759 William Haven Apt. 194, West Corey</td>\n",
       "      <td>1972-06-06 16:13:46</td>\n",
       "      <td>Steve</td>\n",
       "      <td>Williams</td>\n",
       "      <td>Male</td>\n",
       "      <td>4759</td>\n",
       "      <td></td>\n",
       "      <td>William Haven Apt.</td>\n",
       "      <td>194</td>\n",
       "      <td>West Corey</td>\n",
       "      <td>S22.080S</td>\n",
       "      <td>2000-01-11 09:07:50</td>\n",
       "      <td>Wedge compression fracture of T11-T12 vertebra...</td>\n",
       "      <td>ICD-10-S</td>\n",
       "    </tr>\n",
       "    <tr>\n",
       "      <th>1</th>\n",
       "      <td>e3e70682-c209-4cac-629f-6fbed82c07cd</td>\n",
       "      <td>2012-11-22 18:21:09</td>\n",
       "      <td>4759 William Haven Apt. 194, West Corey</td>\n",
       "      <td>1972-06-06 16:13:46</td>\n",
       "      <td>Steve</td>\n",
       "      <td>Williams</td>\n",
       "      <td>Male</td>\n",
       "      <td>4759</td>\n",
       "      <td></td>\n",
       "      <td>William Haven Apt.</td>\n",
       "      <td>194</td>\n",
       "      <td>West Corey</td>\n",
       "      <td>T65.0X3S</td>\n",
       "      <td>2008-01-15 01:54:35</td>\n",
       "      <td>Toxic effect of cyanides, assault, sequela</td>\n",
       "      <td>ICD-10-T</td>\n",
       "    </tr>\n",
       "    <tr>\n",
       "      <th>2</th>\n",
       "      <td>e3e70682-c209-4cac-629f-6fbed82c07cd</td>\n",
       "      <td>2012-11-22 18:21:09</td>\n",
       "      <td>4759 William Haven Apt. 194, West Corey</td>\n",
       "      <td>1972-06-06 16:13:46</td>\n",
       "      <td>Steve</td>\n",
       "      <td>Williams</td>\n",
       "      <td>Male</td>\n",
       "      <td>4759</td>\n",
       "      <td></td>\n",
       "      <td>William Haven Apt.</td>\n",
       "      <td>194</td>\n",
       "      <td>West Corey</td>\n",
       "      <td>T82.867D</td>\n",
       "      <td>2001-02-03 05:07:58</td>\n",
       "      <td>Thrombosis due to cardiac prosthetic devices, ...</td>\n",
       "      <td>ICD-10-T</td>\n",
       "    </tr>\n",
       "    <tr>\n",
       "      <th>3</th>\n",
       "      <td>e3e70682-c209-4cac-629f-6fbed82c07cd</td>\n",
       "      <td>2012-11-22 18:21:09</td>\n",
       "      <td>4759 William Haven Apt. 194, West Corey</td>\n",
       "      <td>1972-06-06 16:13:46</td>\n",
       "      <td>Steve</td>\n",
       "      <td>Williams</td>\n",
       "      <td>Male</td>\n",
       "      <td>4759</td>\n",
       "      <td></td>\n",
       "      <td>William Haven Apt.</td>\n",
       "      <td>194</td>\n",
       "      <td>West Corey</td>\n",
       "      <td>S66.327D</td>\n",
       "      <td>2000-12-21 04:11:56</td>\n",
       "      <td>Laceration of extensor muscle, fascia and tend...</td>\n",
       "      <td>ICD-10-S</td>\n",
       "    </tr>\n",
       "    <tr>\n",
       "      <th>4</th>\n",
       "      <td>e3e70682-c209-4cac-629f-6fbed82c07cd</td>\n",
       "      <td>2012-11-22 18:21:09</td>\n",
       "      <td>4759 William Haven Apt. 194, West Corey</td>\n",
       "      <td>1972-06-06 16:13:46</td>\n",
       "      <td>Steve</td>\n",
       "      <td>Williams</td>\n",
       "      <td>Male</td>\n",
       "      <td>4759</td>\n",
       "      <td></td>\n",
       "      <td>William Haven Apt.</td>\n",
       "      <td>194</td>\n",
       "      <td>West Corey</td>\n",
       "      <td>S22.080S</td>\n",
       "      <td>2003-04-11 00:13:06</td>\n",
       "      <td>Wedge compression fracture of T11-T12 vertebra...</td>\n",
       "      <td>ICD-10-S</td>\n",
       "    </tr>\n",
       "  </tbody>\n",
       "</table>\n",
       "</div>"
      ],
      "text/plain": [
       "                             patient_id        date_of_death  \\\n",
       "0  e3e70682-c209-4cac-629f-6fbed82c07cd  2012-11-22 18:21:09   \n",
       "1  e3e70682-c209-4cac-629f-6fbed82c07cd  2012-11-22 18:21:09   \n",
       "2  e3e70682-c209-4cac-629f-6fbed82c07cd  2012-11-22 18:21:09   \n",
       "3  e3e70682-c209-4cac-629f-6fbed82c07cd  2012-11-22 18:21:09   \n",
       "4  e3e70682-c209-4cac-629f-6fbed82c07cd  2012-11-22 18:21:09   \n",
       "\n",
       "                            place_of_death        date_of_birth first_name  \\\n",
       "0  4759 William Haven Apt. 194, West Corey  1972-06-06 16:13:46      Steve   \n",
       "1  4759 William Haven Apt. 194, West Corey  1972-06-06 16:13:46      Steve   \n",
       "2  4759 William Haven Apt. 194, West Corey  1972-06-06 16:13:46      Steve   \n",
       "3  4759 William Haven Apt. 194, West Corey  1972-06-06 16:13:46      Steve   \n",
       "4  4759 William Haven Apt. 194, West Corey  1972-06-06 16:13:46      Steve   \n",
       "\n",
       "  last_name   sex postal_code state               street housenumber  \\\n",
       "0  Williams  Male        4759        William Haven Apt.          194   \n",
       "1  Williams  Male        4759        William Haven Apt.          194   \n",
       "2  Williams  Male        4759        William Haven Apt.          194   \n",
       "3  Williams  Male        4759        William Haven Apt.          194   \n",
       "4  Williams  Male        4759        William Haven Apt.          194   \n",
       "\n",
       "    placename     ICD10             datetime  \\\n",
       "0  West Corey  S22.080S  2000-01-11 09:07:50   \n",
       "1  West Corey  T65.0X3S  2008-01-15 01:54:35   \n",
       "2  West Corey  T82.867D  2001-02-03 05:07:58   \n",
       "3  West Corey  S66.327D  2000-12-21 04:11:56   \n",
       "4  West Corey  S22.080S  2003-04-11 00:13:06   \n",
       "\n",
       "                                         Description ICD10_class  \n",
       "0  Wedge compression fracture of T11-T12 vertebra...    ICD-10-S  \n",
       "1         Toxic effect of cyanides, assault, sequela    ICD-10-T  \n",
       "2  Thrombosis due to cardiac prosthetic devices, ...    ICD-10-T  \n",
       "3  Laceration of extensor muscle, fascia and tend...    ICD-10-S  \n",
       "4  Wedge compression fracture of T11-T12 vertebra...    ICD-10-S  "
      ]
     },
     "execution_count": 17,
     "metadata": {},
     "output_type": "execute_result"
    }
   ],
   "source": [
    "# merge on the patient identifier to make one unified dataset\n",
    "df_unified = df_mort.merge(df_hosp, on='patient_id')\n",
    "\n",
    "# count the number of rows\n",
    "print(len(df_unified), '\\n')\n",
    "\n",
    "# output the first rows of the unified dataframe\n",
    "df_unified.head()"
   ]
  },
  {
   "cell_type": "markdown",
   "metadata": {},
   "source": [
    "We have merged the datasets into one single dataframe which is ready for statistical analysis in a program like SPSS or STATA. The data cleaning work is ready and the real work can start!\n",
    "\n",
    "### STOP, STOP, STOP <a class=\"anchor\" id=\"integrate-advanced\"></a>\n",
    "\n",
    "You might think this was the result we were looking for, but we missed one step. We haven't explored the ``patient_id`` variable. Especially the variables you merge on need to be analyzed securely. Mistakes on these variables can extrapolate. \n",
    "\n",
    "The following code can be a bit more complicated. Focus on the strategy if it's hard for you to understand the code. We compute the **[Levenshtein distance](https://en.wikipedia.org/wiki/Levenshtein_distance)** for all possible combinations of patient identifiers. One can do this within a dataset to search for potential duplicates, but also between the two datasets. The Levenshtein distance is computed with the function in the cell below. \n"
   ]
  },
  {
   "cell_type": "code",
   "execution_count": 18,
   "metadata": {
    "collapsed": true
   },
   "outputs": [],
   "source": [
    "def levenshtein(s1, s2):\n",
    "    \"\"\"Compute the Levenshtein distance between two strings.\"\"\"\n",
    "    if len(s1) < len(s2):\n",
    "        return levenshtein(s2, s1)\n",
    "\n",
    "    if len(s2) == 0:\n",
    "        return len(s1)\n",
    "\n",
    "    previous_row = range(len(s2) + 1)\n",
    "    \n",
    "    for i, c1 in enumerate(s1):\n",
    "        current_row = [i + 1]\n",
    "        \n",
    "        for j, c2 in enumerate(s2):\n",
    "            insertions = previous_row[j + 1] + 1 \n",
    "            deletions = current_row[j] + 1 \n",
    "            substitutions = previous_row[j] + (c1 != c2)\n",
    "            current_row.append(min(insertions, deletions, substitutions))\n",
    "            \n",
    "        previous_row = current_row\n",
    "    \n",
    "    return previous_row[-1]"
   ]
  },
  {
   "cell_type": "code",
   "execution_count": 19,
   "metadata": {
    "collapsed": false,
    "scrolled": false
   },
   "outputs": [
    {
     "data": {
      "image/png": "[encoded data removed]",
      "text/plain": [
       "<matplotlib.figure.Figure at 0x11bb93f60>"
      ]
     },
     "metadata": {},
     "output_type": "display_data"
    }
   ],
   "source": [
    "# import matplotlib for plotting\n",
    "from matplotlib import pyplot\n",
    "\n",
    "# compute the Levensthein distance between all patient_id's \n",
    "# in the mortality register. \n",
    "df_mort_dist = numpy.array([[levenshtein(pat1, pat2) for pat1 in df_mort['patient_id']] \n",
    "                for pat2 in df_mort['patient_id']])\n",
    "\n",
    "# plot the grid\n",
    "dist_plot = pyplot.imshow(df_mort_dist,interpolation='nearest', cmap='Blues')\n",
    "\n",
    "pyplot.title(\"Levenshtein distance between all patient_id's\")\n",
    "pyplot.xlabel(\"patient_id 1\")\n",
    "pyplot.ylabel(\"patient_id 2\")\n",
    "pyplot.colorbar(dist_plot) # add a color bar\n",
    "pyplot.show()\n",
    "\n",
    "# Make a 2d grid plot. The number on the axes represent the integer id's of the\n",
    "# unique patient id's."
   ]
  },
  {
   "cell_type": "markdown",
   "metadata": {},
   "source": [
    "How do we interpret this graph? Note that all white cells are on the diagonal (compared with themselves...). **This is good.** This implies that there is almost no similarity between true distinct patient identifiers. \n",
    "\n",
    "Now we compare the patient identifiers of both datasets. "
   ]
  },
  {
   "cell_type": "code",
   "execution_count": 20,
   "metadata": {
    "collapsed": false
   },
   "outputs": [
    {
     "data": {
      "image/png": "[encoded data removed]",
      "text/plain": [
       "<matplotlib.figure.Figure at 0x11940e710>"
      ]
     },
     "metadata": {},
     "output_type": "display_data"
    },
    {
     "data": {
      "image/png": "[encoded data removed]",
      "text/plain": [
       "<matplotlib.figure.Figure at 0x11c053c18>"
      ]
     },
     "metadata": {},
     "output_type": "display_data"
    }
   ],
   "source": [
    "# compute the distance between all records in the mortality register \n",
    "# with all records in the hopsital dataset\n",
    "df_mort_sort = numpy.sort(df_mort['patient_id'].unique())\n",
    "df_hosp_sort = numpy.sort(df_hosp['patient_id'].unique())\n",
    "\n",
    "# compute the Levenshtein distance\n",
    "df_mort_hosp_dist = numpy.array([[levenshtein(pat1, pat2) for pat1 in df_mort_sort] for pat2 in df_hosp_sort])\n",
    "\n",
    "# plot the result. \n",
    "dist_plot = pyplot.imshow(df_mort_hosp_dist, interpolation='nearest', cmap='Blues')\n",
    "\n",
    "pyplot.title(\"Levenshtein distance\")\n",
    "pyplot.xlabel(\"patient_id mort i\")\n",
    "pyplot.ylabel(\"patient_id hosp j\")\n",
    "pyplot.colorbar(dist_plot) # add a color bar\n",
    "pyplot.show()\n",
    "\n",
    "# again the result looks good, but a closer look reveals the problem. \n",
    "# We set all distances larger than zero one. In fact we are binarizing \n",
    "# the result. This is what happens with a simple merge statement.\n",
    "df_mort_hosp_dist_bin = df_mort_hosp_dist\n",
    "df_mort_hosp_dist_bin[df_mort_hosp_dist_bin > 0] = 1\n",
    "\n",
    "# plot the new result\n",
    "pyplot.figure()\n",
    "dist_plot = pyplot.imshow(\n",
    "    df_mort_hosp_dist_bin, \n",
    "    interpolation='nearest', \n",
    "    cmap='Blues'\n",
    ")\n",
    "\n",
    "pyplot.title(\"Identical(0)/distinct(1)\")\n",
    "pyplot.xlabel(\"patient_id mort i\")\n",
    "pyplot.ylabel(\"patient_id hosp j\")\n",
    "pyplot.colorbar(dist_plot) # add a color bar\n",
    "pyplot.show()"
   ]
  },
  {
   "cell_type": "markdown",
   "metadata": {},
   "source": [
    "This reveals that there are quite some close matches. We are missing quite some matches when using the naive way."
   ]
  },
  {
   "cell_type": "code",
   "execution_count": 21,
   "metadata": {
    "collapsed": false
   },
   "outputs": [
    {
     "name": "stdout",
     "output_type": "stream",
     "text": [
      "800\n"
     ]
    },
    {
     "data": {
      "text/html": [
       "<div>\n",
       "<table border=\"1\" class=\"dataframe\">\n",
       "  <thead>\n",
       "    <tr style=\"text-align: right;\">\n",
       "      <th></th>\n",
       "      <th>patient_id</th>\n",
       "      <th>date_of_death</th>\n",
       "      <th>place_of_death</th>\n",
       "      <th>date_of_birth</th>\n",
       "      <th>first_name</th>\n",
       "      <th>last_name</th>\n",
       "      <th>sex</th>\n",
       "      <th>postal_code</th>\n",
       "      <th>state</th>\n",
       "      <th>street</th>\n",
       "      <th>housenumber</th>\n",
       "      <th>placename</th>\n",
       "      <th>distance</th>\n",
       "      <th>ICD10</th>\n",
       "      <th>datetime</th>\n",
       "      <th>Description</th>\n",
       "      <th>ICD10_class</th>\n",
       "    </tr>\n",
       "  </thead>\n",
       "  <tbody>\n",
       "    <tr>\n",
       "      <th>0</th>\n",
       "      <td>e3e70682-c209-4cac-629f-6fbed82c07cd</td>\n",
       "      <td>2012-11-22 18:21:09</td>\n",
       "      <td>4759 William Haven Apt. 194, West Corey</td>\n",
       "      <td>1972-06-06 16:13:46</td>\n",
       "      <td>Steve</td>\n",
       "      <td>Williams</td>\n",
       "      <td>Male</td>\n",
       "      <td>4759</td>\n",
       "      <td></td>\n",
       "      <td>William Haven Apt.</td>\n",
       "      <td>194</td>\n",
       "      <td>West Corey</td>\n",
       "      <td>0</td>\n",
       "      <td>S22.080S</td>\n",
       "      <td>2000-01-11 09:07:50</td>\n",
       "      <td>Wedge compression fracture of T11-T12 vertebra...</td>\n",
       "      <td>ICD-10-S</td>\n",
       "    </tr>\n",
       "    <tr>\n",
       "      <th>1</th>\n",
       "      <td>e3e70682-c209-4cac-629f-6fbed82c07cd</td>\n",
       "      <td>2012-11-22 18:21:09</td>\n",
       "      <td>4759 William Haven Apt. 194, West Corey</td>\n",
       "      <td>1972-06-06 16:13:46</td>\n",
       "      <td>Steve</td>\n",
       "      <td>Williams</td>\n",
       "      <td>Male</td>\n",
       "      <td>4759</td>\n",
       "      <td></td>\n",
       "      <td>William Haven Apt.</td>\n",
       "      <td>194</td>\n",
       "      <td>West Corey</td>\n",
       "      <td>0</td>\n",
       "      <td>T65.0X3S</td>\n",
       "      <td>2008-01-15 01:54:35</td>\n",
       "      <td>Toxic effect of cyanides, assault, sequela</td>\n",
       "      <td>ICD-10-T</td>\n",
       "    </tr>\n",
       "    <tr>\n",
       "      <th>2</th>\n",
       "      <td>e3e70682-c209-4cac-629f-6fbed82c07cd</td>\n",
       "      <td>2012-11-22 18:21:09</td>\n",
       "      <td>4759 William Haven Apt. 194, West Corey</td>\n",
       "      <td>1972-06-06 16:13:46</td>\n",
       "      <td>Steve</td>\n",
       "      <td>Williams</td>\n",
       "      <td>Male</td>\n",
       "      <td>4759</td>\n",
       "      <td></td>\n",
       "      <td>William Haven Apt.</td>\n",
       "      <td>194</td>\n",
       "      <td>West Corey</td>\n",
       "      <td>0</td>\n",
       "      <td>T82.867D</td>\n",
       "      <td>2001-02-03 05:07:58</td>\n",
       "      <td>Thrombosis due to cardiac prosthetic devices, ...</td>\n",
       "      <td>ICD-10-T</td>\n",
       "    </tr>\n",
       "    <tr>\n",
       "      <th>3</th>\n",
       "      <td>e3e70682-c209-4cac-629f-6fbed82c07cd</td>\n",
       "      <td>2012-11-22 18:21:09</td>\n",
       "      <td>4759 William Haven Apt. 194, West Corey</td>\n",
       "      <td>1972-06-06 16:13:46</td>\n",
       "      <td>Steve</td>\n",
       "      <td>Williams</td>\n",
       "      <td>Male</td>\n",
       "      <td>4759</td>\n",
       "      <td></td>\n",
       "      <td>William Haven Apt.</td>\n",
       "      <td>194</td>\n",
       "      <td>West Corey</td>\n",
       "      <td>0</td>\n",
       "      <td>S66.327D</td>\n",
       "      <td>2000-12-21 04:11:56</td>\n",
       "      <td>Laceration of extensor muscle, fascia and tend...</td>\n",
       "      <td>ICD-10-S</td>\n",
       "    </tr>\n",
       "    <tr>\n",
       "      <th>4</th>\n",
       "      <td>e3e70682-c209-4cac-629f-6fbed82c07cd</td>\n",
       "      <td>2012-11-22 18:21:09</td>\n",
       "      <td>4759 William Haven Apt. 194, West Corey</td>\n",
       "      <td>1972-06-06 16:13:46</td>\n",
       "      <td>Steve</td>\n",
       "      <td>Williams</td>\n",
       "      <td>Male</td>\n",
       "      <td>4759</td>\n",
       "      <td></td>\n",
       "      <td>William Haven Apt.</td>\n",
       "      <td>194</td>\n",
       "      <td>West Corey</td>\n",
       "      <td>0</td>\n",
       "      <td>S22.080S</td>\n",
       "      <td>2003-04-11 00:13:06</td>\n",
       "      <td>Wedge compression fracture of T11-T12 vertebra...</td>\n",
       "      <td>ICD-10-S</td>\n",
       "    </tr>\n",
       "  </tbody>\n",
       "</table>\n",
       "</div>"
      ],
      "text/plain": [
       "                             patient_id        date_of_death  \\\n",
       "0  e3e70682-c209-4cac-629f-6fbed82c07cd  2012-11-22 18:21:09   \n",
       "1  e3e70682-c209-4cac-629f-6fbed82c07cd  2012-11-22 18:21:09   \n",
       "2  e3e70682-c209-4cac-629f-6fbed82c07cd  2012-11-22 18:21:09   \n",
       "3  e3e70682-c209-4cac-629f-6fbed82c07cd  2012-11-22 18:21:09   \n",
       "4  e3e70682-c209-4cac-629f-6fbed82c07cd  2012-11-22 18:21:09   \n",
       "\n",
       "                            place_of_death        date_of_birth first_name  \\\n",
       "0  4759 William Haven Apt. 194, West Corey  1972-06-06 16:13:46      Steve   \n",
       "1  4759 William Haven Apt. 194, West Corey  1972-06-06 16:13:46      Steve   \n",
       "2  4759 William Haven Apt. 194, West Corey  1972-06-06 16:13:46      Steve   \n",
       "3  4759 William Haven Apt. 194, West Corey  1972-06-06 16:13:46      Steve   \n",
       "4  4759 William Haven Apt. 194, West Corey  1972-06-06 16:13:46      Steve   \n",
       "\n",
       "  last_name   sex postal_code state               street housenumber  \\\n",
       "0  Williams  Male        4759        William Haven Apt.          194   \n",
       "1  Williams  Male        4759        William Haven Apt.          194   \n",
       "2  Williams  Male        4759        William Haven Apt.          194   \n",
       "3  Williams  Male        4759        William Haven Apt.          194   \n",
       "4  Williams  Male        4759        William Haven Apt.          194   \n",
       "\n",
       "    placename  distance     ICD10             datetime  \\\n",
       "0  West Corey         0  S22.080S  2000-01-11 09:07:50   \n",
       "1  West Corey         0  T65.0X3S  2008-01-15 01:54:35   \n",
       "2  West Corey         0  T82.867D  2001-02-03 05:07:58   \n",
       "3  West Corey         0  S66.327D  2000-12-21 04:11:56   \n",
       "4  West Corey         0  S22.080S  2003-04-11 00:13:06   \n",
       "\n",
       "                                         Description ICD10_class  \n",
       "0  Wedge compression fracture of T11-T12 vertebra...    ICD-10-S  \n",
       "1         Toxic effect of cyanides, assault, sequela    ICD-10-T  \n",
       "2  Thrombosis due to cardiac prosthetic devices, ...    ICD-10-T  \n",
       "3  Laceration of extensor muscle, fascia and tend...    ICD-10-S  \n",
       "4  Wedge compression fracture of T11-T12 vertebra...    ICD-10-S  "
      ]
     },
     "execution_count": 21,
     "metadata": {},
     "output_type": "execute_result"
    }
   ],
   "source": [
    "# set the treshold to a maximum of 5 mistakes. \n",
    "treshold = 5\n",
    "\n",
    "# get the sorted unique patient identifiers\n",
    "df_mort_sort = numpy.sort(df_mort['patient_id'].unique())\n",
    "df_hosp_sort = numpy.sort(df_hosp['patient_id'].unique())\n",
    "\n",
    "# put it into a dataframe\n",
    "df_mort_hosp_dist = pandas.DataFrame(\n",
    "    [(pat1, pat2, levenshtein(pat1, pat2)) for pat1 in df_mort_sort for pat2 in df_hosp_sort],\n",
    "    columns=['patient_id_mort', 'patient_id_hosp', 'distance']\n",
    ")\n",
    "\n",
    "# consider all records with less than 5 mistakes as matches\n",
    "matches = df_mort_hosp_dist[df_mort_hosp_dist['distance'] < treshold]\n",
    "\n",
    "# merge both datasets with the matches \n",
    "df_unified = df_mort.merge(\n",
    "    matches, \n",
    "    left_on='patient_id', \n",
    "    right_on='patient_id_mort'\n",
    ").merge(\n",
    "    df_hosp, \n",
    "    left_on='patient_id_hosp', \n",
    "    right_on='patient_id',\n",
    "    suffixes=['', '_y']\n",
    ").drop(\n",
    "    ['patient_id_mort', 'patient_id_hosp', 'patient_id_y'], \n",
    "    axis=1\n",
    ")\n",
    "\n",
    "# count the number of rows. Now we do have 800 matches instead of 716!!!\n",
    "print(len(df_unified))\n",
    "\n",
    "# the new result!!\n",
    "df_unified.head() \n"
   ]
  },
  {
   "cell_type": "markdown",
   "metadata": {},
   "source": [
    "As you can see, the number of matches increases from 719 to 800. An increase of nearly 10%. This can change your statistical results. "
   ]
  },
  {
   "cell_type": "markdown",
   "metadata": {},
   "source": [
    "## Final words <a class=\"anchor\" id=\"final-words\"></a>\n",
    "\n",
    "The examples given in this notebook gave you a very short introduction in the topic of data cleaning and integration. Data cleansing and integration is a very time consuming part of a research. We hope that this notebook shows the need for good data cleaning and the consequences if done badly. Data cleansing and integration is an active research field. Developments in the field of machine learning may lead to new opportunities. Nevertheless, the data cleansing techniques like discussed in this notebook remain relevant. "
   ]
  }
 ],
 "metadata": {
  "anaconda-cloud": {},
  "kernelspec": {
   "display_name": "Python [conda root]",
   "language": "python",
   "name": "conda-root-py"
  },
  "language_info": {
   "codemirror_mode": {
    "name": "ipython",
    "version": 3
   },
   "file_extension": ".py",
   "mimetype": "text/x-python",
   "name": "python",
   "nbconvert_exporter": "python",
   "pygments_lexer": "ipython3",
   "version": "3.5.2"
  }
 },
 "nbformat": 4,
 "nbformat_minor": 1
}
